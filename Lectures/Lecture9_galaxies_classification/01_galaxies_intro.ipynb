{
 "cells": [
  {
   "cell_type": "code",
   "execution_count": 1,
   "metadata": {},
   "outputs": [
    {
     "data": {
      "text/html": [
       "\n",
       "<script src=\"https://stackpath.bootstrapcdn.com/bootstrap/4.3.1/js/bootstrap.min.js\" integrity=\"sha384-JjSmVgyd0p3pXB1rRibZUAYoIIy6OrQ6VrjIEaFf/nJGzIxFDsf4x0xIM+B07jRM\" crossorigin=\"anonymous\"></script>\n",
       "\n",
       "<style>\n",
       "\n",
       "@import url(https://fonts.googleapis.com/css?family=Open+Sans);body{\n",
       "   font-family: 'Open Sans';\n",
       "   font-size: 125%;\n",
       "}\n",
       "\n",
       ".talk_title\n",
       "{\n",
       "  color: #498AF3;\n",
       "  font-size: 275%;\n",
       "  font-weight:bold;\n",
       "  line-height: 1.3; \n",
       "  margin: 10px 50px 10px;\n",
       "  }\n",
       "\n",
       ".subtitle\n",
       "{\n",
       "  color: #386BBC;\n",
       "  font-size: 180%;\n",
       "  font-weight:bold;\n",
       "  line-height: 1.2; \n",
       "  margin: 20px 50px 20px;\n",
       "  }\n",
       "\n",
       ".rendered_html h1\n",
       "{\n",
       "  color: #498AF3;\n",
       "  line-height: 1.2; \n",
       "  margin: 0.15em 0em 0.5em;\n",
       "  page-break-before: always;\n",
       "  text-align: center;\n",
       "  }\n",
       "\n",
       "\n",
       ".center\n",
       "{\n",
       "  text-align: center;\n",
       "  }\n",
       "\n",
       ".nb_link\n",
       "{\n",
       "    padding-bottom: 0.5em;\n",
       "}\n",
       "\n",
       "</style>"
      ],
      "text/plain": [
       "<IPython.core.display.HTML object>"
      ]
     },
     "metadata": {},
     "output_type": "display_data"
    }
   ],
   "source": [
    "%run ../talktools.py"
   ]
  },
  {
   "cell_type": "markdown",
   "metadata": {},
   "source": [
    "# Intro to Galaxies\n",
    "### (UCB Astro Datalab 2021)\n",
    "\n",
    "## Galaxies\n",
    "\n",
    "* A galaxy is a gravitationally bound system of stars, stellar remnnants, dust, gas, and dark matter\n",
    "* There are estimated to be ~2 trillion galaxies in the observable Universe.\n",
    "\n",
    "## The Milky Way\n",
    "\n",
    "* We live in a galaxy \"The Milky Way\"\n",
    "* Charcteristic distances in the MW (and other galaxies) are pc and kpc\n",
    "\n",
    "<img src=\"figs/gaia_mw.jpg\" width=900 height=900></img>"
   ]
  },
  {
   "cell_type": "markdown",
   "metadata": {},
   "source": [
    "## The Local Group\n",
    "\n",
    "* The Milky Way resides in the \"Local Group\"\n",
    "* Two biggest Local Group galaxies are the MW and M31 (Andromeda)\n",
    "* There are about 100 known smaller galaxies; the smallest are ~10 million times less massive (in stars) than the MW\n",
    "* Charcteristic distances to other Local Group galaxies are kpc and Mpc\n",
    "\n",
    "<img src=\"figs/lg_image.jpg\" width=900 height=900></img>"
   ]
  },
  {
   "cell_type": "markdown",
   "metadata": {},
   "source": [
    "## The Local Volume\n",
    "\n",
    "* The Local Group lives in a \"typical\" (or maybe slighly lower than average density) region of the Universe called the Local Volume\n",
    "* The size of the Local Volume is ~10 Mpc in radius\n",
    "* There are >1000s of galaxies in the Local Volume\n",
    "\n",
    "<img src=\"figs/lvl_bw.jpg\" width=600 height=600></img>\n",
    "\n"
   ]
  },
  {
   "cell_type": "markdown",
   "metadata": {},
   "source": [
    "## The Low Redshift Universe\n",
    "* At some point distances start being measured in terms of redshifts\n",
    "* This is due the something called the \"Hubble Flow\"; if you look at sufficiently distant galaxies, their distances and velocities can be related by Hubble's Law\n",
    "* The terminology \"low redshift\" means nearby (or recent in terms of cosmic time) Universe, whereas \"high redshift\" means the very distant (or very early Universe)\n",
    "<img src=\"figs/2dF_galaxies.png\" width=600 height=600></img>"
   ]
  },
  {
   "cell_type": "code",
   "execution_count": null,
   "metadata": {},
   "outputs": [],
   "source": []
  }
 ],
 "metadata": {
  "kernelspec": {
   "display_name": "Python 3",
   "language": "python",
   "name": "python3"
  },
  "language_info": {
   "codemirror_mode": {
    "name": "ipython",
    "version": 3
   },
   "file_extension": ".py",
   "mimetype": "text/x-python",
   "name": "python",
   "nbconvert_exporter": "python",
   "pygments_lexer": "ipython3",
   "version": "3.7.4"
  }
 },
 "nbformat": 4,
 "nbformat_minor": 2
}
